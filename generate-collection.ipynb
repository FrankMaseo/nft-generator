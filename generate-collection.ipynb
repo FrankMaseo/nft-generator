{
 "cells": [
  {
   "cell_type": "code",
   "execution_count": 4,
   "id": "f40bc8c6",
   "metadata": {},
   "outputs": [],
   "source": [
    "##inspired by https://github.com/benyaminahmed/nft-image-generator/blob/main/generate.ipynb\n",
    "from PIL import Image \n",
    "from IPython.display import display \n",
    "import random\n",
    "import json\n",
    "\n",
    "TOTAL_IMAGES = 5000"
   ]
  },
  {
   "cell_type": "code",
   "execution_count": 31,
   "id": "bb5763c7",
   "metadata": {},
   "outputs": [],
   "source": [
    "# Each image is made up a series of traits\n",
    "# The weightings for each trait drive the rarity and add up to 100%\n",
    "\n",
    "\n",
    "##list of all trait categories - ordered by layer (background first, then body, ...)\n",
    "all_traits = ['background', 'body-color','mouth','eyes','clothes','headwear','accessories']\n",
    "\n",
    "##map all traits with their occurences\n",
    "with open('constants/attribute-weights.json', 'r') as f:\n",
    "    all_attributes = json.load(f)"
   ]
  },
  {
   "cell_type": "code",
   "execution_count": 25,
   "id": "8456f1fe",
   "metadata": {},
   "outputs": [],
   "source": [
    "## Generate Traits\n",
    "\n",
    "all_images = [] \n",
    "\n",
    "# A recursive function to generate unique image combinations\n",
    "def create_new_image():\n",
    "    \n",
    "    new_image = {} #\n",
    "\n",
    "    for trait in all_traits:\n",
    "        new_image[trait] = random.choices(\n",
    "            [x['name'] for x in all_attributes[trait]],\n",
    "            [x['weight'] for x in all_attributes[trait]]\n",
    "        )[0]\n",
    "    \n",
    "    if new_image in all_images:\n",
    "        return create_new_image()\n",
    "    else:\n",
    "        return new_image\n",
    "    \n",
    "    \n",
    "# Generate the unique combinations based on trait weightings\n",
    "for i in range(TOTAL_IMAGES): \n",
    "    \n",
    "    new_trait_image = create_new_image()\n",
    "    \n",
    "    all_images.append(new_trait_image)"
   ]
  },
  {
   "cell_type": "code",
   "execution_count": 27,
   "id": "ce6943dc",
   "metadata": {},
   "outputs": [
    {
     "name": "stdout",
     "output_type": "stream",
     "text": [
      "Are all images unique? True\n"
     ]
    }
   ],
   "source": [
    "# Returns true if all images are unique\n",
    "def all_images_unique(all_images):\n",
    "    seen = list()\n",
    "    return not any(i in seen or seen.append(i) for i in all_images)\n",
    "\n",
    "print(\"Are all images unique?\", all_images_unique(all_images))"
   ]
  },
  {
   "cell_type": "code",
   "execution_count": 28,
   "id": "e13f53bf",
   "metadata": {},
   "outputs": [],
   "source": [
    "# Add token Id to each image\n",
    "i = 0\n",
    "for item in all_images:\n",
    "    item[\"tokenId\"] = i\n",
    "    i = i + 1"
   ]
  },
  {
   "cell_type": "code",
   "execution_count": 30,
   "id": "91915c79",
   "metadata": {},
   "outputs": [],
   "source": [
    "#### Generate Metadata for all Traits \n",
    "METADATA_FILE_NAME = './metadata/all-traits.json'; \n",
    "with open(METADATA_FILE_NAME, 'w') as outfile:\n",
    "    json.dump(all_images, outfile, indent=4)"
   ]
  },
  {
   "cell_type": "code",
   "execution_count": 35,
   "id": "99653b17",
   "metadata": {},
   "outputs": [],
   "source": [
    "#### Generate Images    \n",
    "for item in all_images[:10]:\n",
    "    \n",
    "    layers=[]\n",
    "    \n",
    "    for trait in all_traits:\n",
    "        if item[trait]!='None':\n",
    "            layers.append(\n",
    "                Image.open(\n",
    "                    f'./layers/{trait}/{item[trait]}.png'\n",
    "                ).convert('RGBA')\n",
    "            )\n",
    "    \n",
    "    #create base layer\n",
    "    com = Image.alpha_composite(layers[0], layers[1])\n",
    "    \n",
    "    for i in range(2, len(layers)):\n",
    "        com = Image.alpha_composite(com, layers[i])\n",
    "        \n",
    "    #Convert to RGB\n",
    "    rgb_im = com.convert('RGB')\n",
    "    file_name = str(item[\"tokenId\"]) + \".png\"\n",
    "    rgb_im.save(\"./images/\" + file_name)"
   ]
  }
 ],
 "metadata": {
  "kernelspec": {
   "display_name": "Python 3 (ipykernel)",
   "language": "python",
   "name": "python3"
  },
  "language_info": {
   "codemirror_mode": {
    "name": "ipython",
    "version": 3
   },
   "file_extension": ".py",
   "mimetype": "text/x-python",
   "name": "python",
   "nbconvert_exporter": "python",
   "pygments_lexer": "ipython3",
   "version": "3.10.10"
  }
 },
 "nbformat": 4,
 "nbformat_minor": 5
}
